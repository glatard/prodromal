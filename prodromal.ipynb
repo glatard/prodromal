{
 "cells": [
  {
   "cell_type": "code",
   "execution_count": 1,
   "id": "2247f71c-55a6-4cac-808c-4811113c5528",
   "metadata": {},
   "outputs": [
    {
     "name": "stdout",
     "output_type": "stream",
     "text": [
      "removing link inputs\n",
      "removing link outputs\n"
     ]
    }
   ],
   "source": [
    "import pandas as pd\n",
    "import livingpark_utils\n",
    "\n",
    "utils = livingpark_utils.LivingParkUtils()"
   ]
  },
  {
   "cell_type": "markdown",
   "id": "2ec0b275-6b5d-4c43-94da-ec8f4b6d0126",
   "metadata": {},
   "source": [
    "## Download study data files"
   ]
  },
  {
   "cell_type": "code",
   "execution_count": 2,
   "id": "ff43dbf1-2373-4a8e-b261-348920b9f328",
   "metadata": {},
   "outputs": [
    {
     "name": "stdout",
     "output_type": "stream",
     "text": [
      "Download skipped: No missing files!\n"
     ]
    }
   ],
   "source": [
    "required_files = [\n",
    "    \"Demographics.csv\",\n",
    "    \"Primary_Clinical_Diagnosis.csv\",\n",
    "    \"Cognitive_Categorization.csv\",\n",
    "    \"Medical_Conditions_Log.csv\",\n",
    "    \"Concomitant_Medication_Log.csv\",\n",
    "    \"Prodromal_History.csv\",\n",
    "]\n",
    "\n",
    "utils.download_ppmi_metadata(required_files)"
   ]
  },
  {
   "cell_type": "markdown",
   "id": "b04ac33a-e37b-4136-8979-9d5346d14ecf",
   "metadata": {},
   "source": [
    "## Inspect prodromal data"
   ]
  },
  {
   "cell_type": "code",
   "execution_count": 3,
   "id": "1844c514-cb4e-40b0-8ed2-0dc888f94679",
   "metadata": {},
   "outputs": [],
   "source": [
    "import os\n",
    "prodromal = pd.read_csv(os.path.join(utils.study_files_dir, 'Prodromal_History.csv'))[[\"PATNO\", \"EVENT_ID\", \"RBDDIAG\", \"RBDPSG\", \"ORIG_ENTRY\"]]\n",
    "prodromal[\"ORIG_ENTRY_formatted\"] = pd.to_datetime(prodromal['ORIG_ENTRY'])"
   ]
  },
  {
   "cell_type": "code",
   "execution_count": 4,
   "id": "43ee1526-d4de-4981-9948-a2b6f5b1d328",
   "metadata": {
    "tags": []
   },
   "outputs": [
    {
     "name": "stdout",
     "output_type": "stream",
     "text": [
      "Total number of records: 101\n",
      "Unique subjects: 101\n"
     ]
    },
    {
     "data": {
      "image/png": "[encoded data removed]",
      "text/plain": [
       "<Figure size 432x288 with 1 Axes>"
      ]
     },
     "metadata": {
      "needs_background": "light"
     },
     "output_type": "display_data"
    }
   ],
   "source": [
    "from matplotlib import pyplot as plt\n",
    "print(f'Total number of records: {len(prodromal)}')\n",
    "print(f'Unique subjects: {len(pd.unique(prodromal[\"PATNO\"]))}')\n",
    "prodromal['ORIG_ENTRY_formatted'].hist()\n",
    "plt.xlabel('Entry date')\n",
    "plt.ylabel('Number of records')\n",
    "plt.show()"
   ]
  },
  {
   "cell_type": "code",
   "execution_count": 5,
   "id": "c38df4c5-516f-4af5-ae63-810aec850edc",
   "metadata": {},
   "outputs": [
    {
     "data": {
      "text/html": [
       "<div>\n",
       "<style scoped>\n",
       "    .dataframe tbody tr th:only-of-type {\n",
       "        vertical-align: middle;\n",
       "    }\n",
       "\n",
       "    .dataframe tbody tr th {\n",
       "        vertical-align: top;\n",
       "    }\n",
       "\n",
       "    .dataframe thead th {\n",
       "        text-align: right;\n",
       "    }\n",
       "</style>\n",
       "<table border=\"1\" class=\"dataframe\">\n",
       "  <thead>\n",
       "    <tr style=\"text-align: right;\">\n",
       "      <th></th>\n",
       "      <th></th>\n",
       "      <th>PATNO</th>\n",
       "      <th>EVENT_ID</th>\n",
       "      <th>ORIG_ENTRY</th>\n",
       "      <th>ORIG_ENTRY_formatted</th>\n",
       "    </tr>\n",
       "    <tr>\n",
       "      <th>RBDDIAG</th>\n",
       "      <th>RBDPSG</th>\n",
       "      <th></th>\n",
       "      <th></th>\n",
       "      <th></th>\n",
       "      <th></th>\n",
       "    </tr>\n",
       "  </thead>\n",
       "  <tbody>\n",
       "    <tr>\n",
       "      <th>0.0</th>\n",
       "      <th>0.0</th>\n",
       "      <td>1</td>\n",
       "      <td>1</td>\n",
       "      <td>1</td>\n",
       "      <td>1</td>\n",
       "    </tr>\n",
       "    <tr>\n",
       "      <th rowspan=\"2\" valign=\"top\">1.0</th>\n",
       "      <th>0.0</th>\n",
       "      <td>6</td>\n",
       "      <td>6</td>\n",
       "      <td>6</td>\n",
       "      <td>6</td>\n",
       "    </tr>\n",
       "    <tr>\n",
       "      <th>1.0</th>\n",
       "      <td>52</td>\n",
       "      <td>52</td>\n",
       "      <td>52</td>\n",
       "      <td>52</td>\n",
       "    </tr>\n",
       "    <tr>\n",
       "      <th>NaN</th>\n",
       "      <th>NaN</th>\n",
       "      <td>42</td>\n",
       "      <td>42</td>\n",
       "      <td>42</td>\n",
       "      <td>42</td>\n",
       "    </tr>\n",
       "  </tbody>\n",
       "</table>\n",
       "</div>"
      ],
      "text/plain": [
       "                PATNO  EVENT_ID  ORIG_ENTRY  ORIG_ENTRY_formatted\n",
       "RBDDIAG RBDPSG                                                   \n",
       "0.0     0.0         1         1           1                     1\n",
       "1.0     0.0         6         6           6                     6\n",
       "        1.0        52        52          52                    52\n",
       "NaN     NaN        42        42          42                    42"
      ]
     },
     "execution_count": 5,
     "metadata": {},
     "output_type": "execute_result"
    }
   ],
   "source": [
    "prodromal.groupby(['RBDDIAG', 'RBDPSG'], dropna=False).count()"
   ]
  },
  {
   "cell_type": "markdown",
   "id": "98f552aa-db34-41e4-8796-c296330caeb2",
   "metadata": {},
   "source": [
    "There are 52 RBD subjects with a polysomnography."
   ]
  },
  {
   "cell_type": "markdown",
   "id": "21eb02d7-c4cb-4101-a542-8230364ed273",
   "metadata": {},
   "source": [
    "## Inclusion/exclusion criteria"
   ]
  },
  {
   "cell_type": "code",
   "execution_count": 6,
   "id": "3737528f-8c77-42a9-9ff2-1cf1ac3284e4",
   "metadata": {},
   "outputs": [],
   "source": [
    "import os.path as op\n",
    "\n",
    "# Prodromal history\n",
    "prodr_hist = pd.read_csv(os.path.join(utils.study_files_dir, 'Prodromal_History.csv'))[[\"PATNO\", \"RBDDIAG\", \"RBDPSG\"]]\n",
    "\n",
    "# MRI info\n",
    "mri = pd.read_csv(op.join(utils.study_files_dir, \"MRI_info.csv\"))[\n",
    "    [\"Subject ID\", \"Visit code\", \"Description\", \"Age\"]\n",
    "]\n",
    "mri.rename(columns={\"Subject ID\": \"PATNO\", \"Visit code\": \"EVENT_ID\"}, inplace=True)\n",
    "\n",
    "# Demographics\n",
    "dem = pd.read_csv(os.path.join(utils.study_files_dir, \"Demographics.csv\"))[[\"PATNO\", \"SEX\"]]\n",
    "\n",
    "# Diagnosis\n",
    "diag = pd.read_csv(op.join(utils.study_files_dir, \"Primary_Clinical_Diagnosis.csv\"))[\n",
    "    [\"PATNO\", \"EVENT_ID\", \"PRIMDIAG\", \"OTHNEURO\"]\n",
    "]\n",
    "\n",
    "# Cognitive Categorization\n",
    "cog_cat = pd.read_csv(op.join(utils.study_files_dir, \"Cognitive_Categorization.csv\"))[\n",
    "    [\"PATNO\", \"EVENT_ID\", \"COGSTATE\"]\n",
    "]\n",
    "\n",
    "# Medical condition\n",
    "med_cond = pd.read_csv(op.join(utils.study_files_dir, \"Medical_Conditions_Log.csv\"))[\n",
    "    [\"PATNO\", \"EVENT_ID\", \"MHCAT\"]\n",
    "].groupby(['PATNO', 'EVENT_ID'])[['MHCAT']].aggregate(lambda x: tuple(set(x))) # aggregate all codes in a tuple\n",
    "\n",
    "# Medication\n",
    "meds = pd.read_csv(op.join(utils.study_files_dir, \"Concomitant_Medication_Log.csv\"))[\n",
    "    [\"PATNO\", \"EVENT_ID\", \"SEQNO\", \"CMTRT\"]\n",
    "].groupby(['PATNO', 'EVENT_ID'])[['CMTRT']].aggregate(lambda x: tuple(x)) # aggregate all meds in a tuple\n",
    "\n",
    "def included(subjects):\n",
    "    '''\n",
    "    Return subjects complying to the inclusion criteria mentioned before.\n",
    "    \n",
    "    Parameters\n",
    "    ----------\n",
    "    subjects: DataFrame. Has to contain columns PATNO and EVENT_ID and PRIMDIAG\n",
    "    '''\n",
    "    temp =  (subjects.merge(dem, on=\"PATNO\", how=\"inner\") # Sex is available\n",
    "     .merge(diag[diag['PRIMDIAG'].isin([17, 25])], on=[\"PATNO\", \"EVENT_ID\"], how=\"inner\") # Subject is healthy or prodromal\n",
    "     .merge(mri, on=[\"PATNO\", \"EVENT_ID\"], how=\"inner\")  # MRI usable for VBM is available\n",
    "     .merge(cog_cat[cog_cat[\"COGSTATE\"] != 3], how=\"inner\", on=[\"PATNO\", \"EVENT_ID\"])  # No dementia\n",
    "     .merge(med_cond, on=[\"PATNO\", \"EVENT_ID\"], how=\"left\")\n",
    "     .merge(meds, on=[\"PATNO\", \"EVENT_ID\"], how=\"left\")\n",
    "     \n",
    "             [\n",
    "        [\n",
    "            \"PATNO\",\n",
    "            \"EVENT_ID\",\n",
    "            \"RBDSQ\",\n",
    "            \"Q6\",\n",
    "            \"SEX\",\n",
    "            \"Age\",\n",
    "            \"Description\",\n",
    "            \"PRIMDIAG\",\n",
    "            \"COGSTATE\",\n",
    "            \"MHCAT\",\n",
    "            \"CMTRT\",\n",
    "        ]\n",
    "    ]\n",
    "            )\n",
    "    \n",
    "    # Check medical condition and return\n",
    "    def check_mhcat(x):\n",
    "        import numpy as np\n",
    "        if type(x) == tuple:\n",
    "            return not (\"1P\" in x or \"1Q\" in x)\n",
    "        else:\n",
    "            return np.isnan(x)\n",
    "        \n",
    "    return temp[(temp[\"MHCAT\"].apply(check_mhcat))]  # No neurological or psychiatric illness and no evidence of central nervous system (CNS) comorbidities\n"
   ]
  },
  {
   "cell_type": "markdown",
   "id": "518ab52b-0846-447c-87eb-84900cdddf9b",
   "metadata": {},
   "source": [
    "### RBDDIAG=1 and RBDPSG=1"
   ]
  },
  {
   "cell_type": "code",
   "execution_count": 7,
   "id": "0ed7f5e6-b4d1-4ca3-aee4-682d0436c300",
   "metadata": {},
   "outputs": [
    {
     "name": "stdout",
     "output_type": "stream",
     "text": [
      "Number of subjects remaining 52\n",
      "Number of records remaining 52\n"
     ]
    }
   ],
   "source": [
    "subjects = (prodr_hist[(prodr_hist['RBDDIAG']==1) & (prodr_hist['RBDPSG']==1)])\n",
    "print(f'Number of subjects remaining {len(pd.unique(subjects[\"PATNO\"]))}')\n",
    "print(f'Number of records remaining {len(subjects)}')"
   ]
  },
  {
   "cell_type": "markdown",
   "id": "ce6666f7-9be1-4642-9bcd-aecf3a8995a2",
   "metadata": {},
   "source": [
    "### Sex is available"
   ]
  },
  {
   "cell_type": "code",
   "execution_count": 8,
   "id": "95fecd4b-a6b3-4fe0-8b17-d4de8d554a1f",
   "metadata": {},
   "outputs": [
    {
     "name": "stdout",
     "output_type": "stream",
     "text": [
      "Number of subjects remaining 47\n",
      "Number of records remaining 47\n"
     ]
    }
   ],
   "source": [
    "subjects = subjects.merge(dem, on=\"PATNO\", how=\"inner\")\n",
    "print(f'Number of subjects remaining {len(pd.unique(subjects[\"PATNO\"]))}')\n",
    "print(f'Number of records remaining {len(subjects)}')"
   ]
  },
  {
   "cell_type": "markdown",
   "id": "2a1ac033-4d08-4efd-a808-beda395ae0c2",
   "metadata": {},
   "source": [
    "### PRIMDIAG is in [17, 25]"
   ]
  },
  {
   "cell_type": "code",
   "execution_count": 9,
   "id": "c6df38f2-88bb-486f-b132-61f9903cdf57",
   "metadata": {},
   "outputs": [],
   "source": [
    "subjects = subjects.merge(diag[diag['PRIMDIAG'].isin([17, 25])], on=[\"PATNO\"], how=\"left\") # Subject is healthy or prodromal"
   ]
  },
  {
   "cell_type": "code",
   "execution_count": 10,
   "id": "ce8eedf3-ce48-4ff2-b245-ee57b987b76e",
   "metadata": {},
   "outputs": [
    {
     "name": "stdout",
     "output_type": "stream",
     "text": [
      "Number of subjects remaining 47\n",
      "Number of records remaining 63\n"
     ]
    }
   ],
   "source": [
    "print(f'Number of subjects remaining {len(pd.unique(subjects[\"PATNO\"]))}')\n",
    "print(f'Number of records remaining {len(subjects)}')"
   ]
  },
  {
   "cell_type": "markdown",
   "id": "ac7bb981-9529-49cb-b710-5fa4bfc05610",
   "metadata": {},
   "source": [
    "### MRI is available"
   ]
  },
  {
   "cell_type": "code",
   "execution_count": 11,
   "id": "ef56a8c9-0fb4-4d80-b043-7ff4d217385a",
   "metadata": {},
   "outputs": [
    {
     "name": "stdout",
     "output_type": "stream",
     "text": [
      "Number of subjects remaining 7\n",
      "Number of records remaining 8\n"
     ]
    }
   ],
   "source": [
    "subjects = subjects.merge(mri, on=[\"PATNO\", \"EVENT_ID\"], how=\"inner\")  # MRI usable for VBM is available\n",
    "print(f'Number of subjects remaining {len(pd.unique(subjects[\"PATNO\"]))}')\n",
    "print(f'Number of records remaining {len(subjects)}')"
   ]
  },
  {
   "cell_type": "markdown",
   "id": "2009b964-7ba3-4f78-bcb2-e0d4ff7b1157",
   "metadata": {},
   "source": [
    "### No dementia"
   ]
  },
  {
   "cell_type": "code",
   "execution_count": 12,
   "id": "fba213de-e649-445d-a000-78a25be12204",
   "metadata": {},
   "outputs": [
    {
     "name": "stdout",
     "output_type": "stream",
     "text": [
      "Number of subjects remaining 7\n",
      "Number of records remaining 8\n"
     ]
    }
   ],
   "source": [
    "subjects = subjects.merge(cog_cat[cog_cat[\"COGSTATE\"] != 3], how=\"inner\", on=[\"PATNO\", \"EVENT_ID\"])  # No dementia\n",
    "print(f'Number of subjects remaining {len(pd.unique(subjects[\"PATNO\"]))}')\n",
    "print(f'Number of records remaining {len(subjects)}')"
   ]
  },
  {
   "cell_type": "markdown",
   "id": "3d6d204d-4c06-4e50-9351-365127860bf6",
   "metadata": {},
   "source": [
    "### MHCAT not in 1P or 1Q (no neuro or psych disease)"
   ]
  },
  {
   "cell_type": "code",
   "execution_count": 13,
   "id": "e818c8f8-8995-4a13-bb8a-f7dda6411c86",
   "metadata": {},
   "outputs": [
    {
     "name": "stdout",
     "output_type": "stream",
     "text": [
      "Number of subjects remaining 6\n",
      "Number of records remaining 7\n"
     ]
    }
   ],
   "source": [
    "# Check medical condition and return\n",
    "def check_mhcat(x):\n",
    "        import numpy as np\n",
    "        if type(x) == tuple:\n",
    "            return not (\"1P\" in x or \"1Q\" in x)\n",
    "        else:\n",
    "            return np.isnan(x)\n",
    "\n",
    "subjects = subjects.merge(med_cond, on=[\"PATNO\", \"EVENT_ID\"], how=\"left\")\n",
    "subjects = subjects[subjects[\"MHCAT\"].apply(check_mhcat)]\n",
    "\n",
    "print(f'Number of subjects remaining {len(pd.unique(subjects[\"PATNO\"]))}')\n",
    "print(f'Number of records remaining {len(subjects)}')"
   ]
  },
  {
   "cell_type": "markdown",
   "id": "6ff7e54d-13e4-42d6-bf5b-76d6cc3d4083",
   "metadata": {},
   "source": [
    "### Medication"
   ]
  },
  {
   "cell_type": "code",
   "execution_count": 14,
   "id": "8a992d5c-e6a0-4579-b21b-f4954a728ed1",
   "metadata": {},
   "outputs": [
    {
     "data": {
      "text/html": [
       "<div>\n",
       "<style scoped>\n",
       "    .dataframe tbody tr th:only-of-type {\n",
       "        vertical-align: middle;\n",
       "    }\n",
       "\n",
       "    .dataframe tbody tr th {\n",
       "        vertical-align: top;\n",
       "    }\n",
       "\n",
       "    .dataframe thead th {\n",
       "        text-align: right;\n",
       "    }\n",
       "</style>\n",
       "<table border=\"1\" class=\"dataframe\">\n",
       "  <thead>\n",
       "    <tr style=\"text-align: right;\">\n",
       "      <th></th>\n",
       "      <th>PATNO</th>\n",
       "    </tr>\n",
       "    <tr>\n",
       "      <th>CMTRT</th>\n",
       "      <th></th>\n",
       "    </tr>\n",
       "  </thead>\n",
       "  <tbody>\n",
       "    <tr>\n",
       "      <th>(Benadryl, Spiriva)</th>\n",
       "      <td>2</td>\n",
       "    </tr>\n",
       "    <tr>\n",
       "      <th>(Elequis,)</th>\n",
       "      <td>1</td>\n",
       "    </tr>\n",
       "    <tr>\n",
       "      <th>(esomeprazole, clonazepam, ibandronate, gemfibrilosil)</th>\n",
       "      <td>1</td>\n",
       "    </tr>\n",
       "    <tr>\n",
       "      <th>(melatonin,)</th>\n",
       "      <td>1</td>\n",
       "    </tr>\n",
       "  </tbody>\n",
       "</table>\n",
       "</div>"
      ],
      "text/plain": [
       "                                                    PATNO\n",
       "CMTRT                                                    \n",
       "(Benadryl, Spiriva)                                     2\n",
       "(Elequis,)                                              1\n",
       "(esomeprazole, clonazepam, ibandronate, gemfibr...      1\n",
       "(melatonin,)                                            1"
      ]
     },
     "execution_count": 14,
     "metadata": {},
     "output_type": "execute_result"
    }
   ],
   "source": [
    "subjects.merge(meds, on=[\"PATNO\", \"EVENT_ID\"], how=\"left\").groupby(\"CMTRT\").count()[[\"PATNO\"]]"
   ]
  }
 ],
 "metadata": {
  "kernelspec": {
   "display_name": "Python 3 (ipykernel)",
   "language": "python",
   "name": "python3"
  },
  "language_info": {
   "codemirror_mode": {
    "name": "ipython",
    "version": 3
   },
   "file_extension": ".py",
   "mimetype": "text/x-python",
   "name": "python",
   "nbconvert_exporter": "python",
   "pygments_lexer": "ipython3",
   "version": "3.10.5"
  }
 },
 "nbformat": 4,
 "nbformat_minor": 5
}
